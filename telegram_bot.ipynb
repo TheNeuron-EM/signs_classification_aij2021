{
  "nbformat": 4,
  "nbformat_minor": 0,
  "metadata": {
    "accelerator": "GPU",
    "colab": {
      "name": "telegram-bot.ipynb",
      "provenance": [],
      "collapsed_sections": []
    },
    "kernelspec": {
      "display_name": "Python 3",
      "name": "python3"
    },
    "language_info": {
      "name": "python"
    }
  },
  "cells": [
    {
      "cell_type": "code",
      "metadata": {
        "colab": {
          "base_uri": "https://localhost:8080/",
          "height": 527
        },
        "id": "c0RQ6nIfzOd5",
        "outputId": "304d4a84-a6cc-419f-e3a1-e824113cc0d9"
      },
      "source": [
        "from google.colab import drive\n",
        "drive.mount('/content/drive')"
      ],
      "execution_count": 1,
      "outputs": [
        {
          "output_type": "error",
          "ename": "KeyboardInterrupt",
          "evalue": "ignored",
          "traceback": [
            "\u001b[0;31m---------------------------------------------------------------------------\u001b[0m",
            "\u001b[0;31mKeyboardInterrupt\u001b[0m                         Traceback (most recent call last)",
            "\u001b[0;32m/usr/local/lib/python3.7/dist-packages/ipykernel/kernelbase.py\u001b[0m in \u001b[0;36m_input_request\u001b[0;34m(self, prompt, ident, parent, password)\u001b[0m\n\u001b[1;32m    728\u001b[0m             \u001b[0;32mtry\u001b[0m\u001b[0;34m:\u001b[0m\u001b[0;34m\u001b[0m\u001b[0;34m\u001b[0m\u001b[0m\n\u001b[0;32m--> 729\u001b[0;31m                 \u001b[0mident\u001b[0m\u001b[0;34m,\u001b[0m \u001b[0mreply\u001b[0m \u001b[0;34m=\u001b[0m \u001b[0mself\u001b[0m\u001b[0;34m.\u001b[0m\u001b[0msession\u001b[0m\u001b[0;34m.\u001b[0m\u001b[0mrecv\u001b[0m\u001b[0;34m(\u001b[0m\u001b[0mself\u001b[0m\u001b[0;34m.\u001b[0m\u001b[0mstdin_socket\u001b[0m\u001b[0;34m,\u001b[0m \u001b[0;36m0\u001b[0m\u001b[0;34m)\u001b[0m\u001b[0;34m\u001b[0m\u001b[0;34m\u001b[0m\u001b[0m\n\u001b[0m\u001b[1;32m    730\u001b[0m             \u001b[0;32mexcept\u001b[0m \u001b[0mException\u001b[0m\u001b[0;34m:\u001b[0m\u001b[0;34m\u001b[0m\u001b[0;34m\u001b[0m\u001b[0m\n",
            "\u001b[0;32m/usr/local/lib/python3.7/dist-packages/jupyter_client/session.py\u001b[0m in \u001b[0;36mrecv\u001b[0;34m(self, socket, mode, content, copy)\u001b[0m\n\u001b[1;32m    802\u001b[0m         \u001b[0;32mtry\u001b[0m\u001b[0;34m:\u001b[0m\u001b[0;34m\u001b[0m\u001b[0;34m\u001b[0m\u001b[0m\n\u001b[0;32m--> 803\u001b[0;31m             \u001b[0mmsg_list\u001b[0m \u001b[0;34m=\u001b[0m \u001b[0msocket\u001b[0m\u001b[0;34m.\u001b[0m\u001b[0mrecv_multipart\u001b[0m\u001b[0;34m(\u001b[0m\u001b[0mmode\u001b[0m\u001b[0;34m,\u001b[0m \u001b[0mcopy\u001b[0m\u001b[0;34m=\u001b[0m\u001b[0mcopy\u001b[0m\u001b[0;34m)\u001b[0m\u001b[0;34m\u001b[0m\u001b[0;34m\u001b[0m\u001b[0m\n\u001b[0m\u001b[1;32m    804\u001b[0m         \u001b[0;32mexcept\u001b[0m \u001b[0mzmq\u001b[0m\u001b[0;34m.\u001b[0m\u001b[0mZMQError\u001b[0m \u001b[0;32mas\u001b[0m \u001b[0me\u001b[0m\u001b[0;34m:\u001b[0m\u001b[0;34m\u001b[0m\u001b[0;34m\u001b[0m\u001b[0m\n",
            "\u001b[0;32m/usr/local/lib/python3.7/dist-packages/zmq/sugar/socket.py\u001b[0m in \u001b[0;36mrecv_multipart\u001b[0;34m(self, flags, copy, track)\u001b[0m\n\u001b[1;32m    624\u001b[0m         \"\"\"\n\u001b[0;32m--> 625\u001b[0;31m         \u001b[0mparts\u001b[0m \u001b[0;34m=\u001b[0m \u001b[0;34m[\u001b[0m\u001b[0mself\u001b[0m\u001b[0;34m.\u001b[0m\u001b[0mrecv\u001b[0m\u001b[0;34m(\u001b[0m\u001b[0mflags\u001b[0m\u001b[0;34m,\u001b[0m \u001b[0mcopy\u001b[0m\u001b[0;34m=\u001b[0m\u001b[0mcopy\u001b[0m\u001b[0;34m,\u001b[0m \u001b[0mtrack\u001b[0m\u001b[0;34m=\u001b[0m\u001b[0mtrack\u001b[0m\u001b[0;34m)\u001b[0m\u001b[0;34m]\u001b[0m\u001b[0;34m\u001b[0m\u001b[0;34m\u001b[0m\u001b[0m\n\u001b[0m\u001b[1;32m    626\u001b[0m         \u001b[0;31m# have first part already, only loop while more to receive\u001b[0m\u001b[0;34m\u001b[0m\u001b[0;34m\u001b[0m\u001b[0;34m\u001b[0m\u001b[0m\n",
            "\u001b[0;32mzmq/backend/cython/socket.pyx\u001b[0m in \u001b[0;36mzmq.backend.cython.socket.Socket.recv\u001b[0;34m()\u001b[0m\n",
            "\u001b[0;32mzmq/backend/cython/socket.pyx\u001b[0m in \u001b[0;36mzmq.backend.cython.socket.Socket.recv\u001b[0;34m()\u001b[0m\n",
            "\u001b[0;32mzmq/backend/cython/socket.pyx\u001b[0m in \u001b[0;36mzmq.backend.cython.socket._recv_copy\u001b[0;34m()\u001b[0m\n",
            "\u001b[0;32m/usr/local/lib/python3.7/dist-packages/zmq/backend/cython/checkrc.pxd\u001b[0m in \u001b[0;36mzmq.backend.cython.checkrc._check_rc\u001b[0;34m()\u001b[0m\n",
            "\u001b[0;31mKeyboardInterrupt\u001b[0m: ",
            "\nDuring handling of the above exception, another exception occurred:\n",
            "\u001b[0;31mKeyboardInterrupt\u001b[0m                         Traceback (most recent call last)",
            "\u001b[0;32m<ipython-input-1-d5df0069828e>\u001b[0m in \u001b[0;36m<module>\u001b[0;34m()\u001b[0m\n\u001b[1;32m      1\u001b[0m \u001b[0;32mfrom\u001b[0m \u001b[0mgoogle\u001b[0m\u001b[0;34m.\u001b[0m\u001b[0mcolab\u001b[0m \u001b[0;32mimport\u001b[0m \u001b[0mdrive\u001b[0m\u001b[0;34m\u001b[0m\u001b[0;34m\u001b[0m\u001b[0m\n\u001b[0;32m----> 2\u001b[0;31m \u001b[0mdrive\u001b[0m\u001b[0;34m.\u001b[0m\u001b[0mmount\u001b[0m\u001b[0;34m(\u001b[0m\u001b[0;34m'/content/drive'\u001b[0m\u001b[0;34m)\u001b[0m\u001b[0;34m\u001b[0m\u001b[0;34m\u001b[0m\u001b[0m\n\u001b[0m",
            "\u001b[0;32m/usr/local/lib/python3.7/dist-packages/google/colab/drive.py\u001b[0m in \u001b[0;36mmount\u001b[0;34m(mountpoint, force_remount, timeout_ms, use_metadata_server)\u001b[0m\n\u001b[1;32m    111\u001b[0m       \u001b[0mtimeout_ms\u001b[0m\u001b[0;34m=\u001b[0m\u001b[0mtimeout_ms\u001b[0m\u001b[0;34m,\u001b[0m\u001b[0;34m\u001b[0m\u001b[0;34m\u001b[0m\u001b[0m\n\u001b[1;32m    112\u001b[0m       \u001b[0muse_metadata_server\u001b[0m\u001b[0;34m=\u001b[0m\u001b[0muse_metadata_server\u001b[0m\u001b[0;34m,\u001b[0m\u001b[0;34m\u001b[0m\u001b[0;34m\u001b[0m\u001b[0m\n\u001b[0;32m--> 113\u001b[0;31m       ephemeral=ephemeral)\n\u001b[0m\u001b[1;32m    114\u001b[0m \u001b[0;34m\u001b[0m\u001b[0m\n\u001b[1;32m    115\u001b[0m \u001b[0;34m\u001b[0m\u001b[0m\n",
            "\u001b[0;32m/usr/local/lib/python3.7/dist-packages/google/colab/drive.py\u001b[0m in \u001b[0;36m_mount\u001b[0;34m(mountpoint, force_remount, timeout_ms, use_metadata_server, ephemeral)\u001b[0m\n\u001b[1;32m    290\u001b[0m       \u001b[0;32mwith\u001b[0m \u001b[0m_output\u001b[0m\u001b[0;34m.\u001b[0m\u001b[0muse_tags\u001b[0m\u001b[0;34m(\u001b[0m\u001b[0;34m'dfs-auth-dance'\u001b[0m\u001b[0;34m)\u001b[0m\u001b[0;34m:\u001b[0m\u001b[0;34m\u001b[0m\u001b[0;34m\u001b[0m\u001b[0m\n\u001b[1;32m    291\u001b[0m         \u001b[0;32mwith\u001b[0m \u001b[0mopen\u001b[0m\u001b[0;34m(\u001b[0m\u001b[0mfifo\u001b[0m\u001b[0;34m,\u001b[0m \u001b[0;34m'w'\u001b[0m\u001b[0;34m)\u001b[0m \u001b[0;32mas\u001b[0m \u001b[0mfifo_file\u001b[0m\u001b[0;34m:\u001b[0m\u001b[0;34m\u001b[0m\u001b[0;34m\u001b[0m\u001b[0m\n\u001b[0;32m--> 292\u001b[0;31m           \u001b[0mfifo_file\u001b[0m\u001b[0;34m.\u001b[0m\u001b[0mwrite\u001b[0m\u001b[0;34m(\u001b[0m\u001b[0mget_code\u001b[0m\u001b[0;34m(\u001b[0m\u001b[0mauth_prompt\u001b[0m\u001b[0;34m)\u001b[0m \u001b[0;34m+\u001b[0m \u001b[0;34m'\\n'\u001b[0m\u001b[0;34m)\u001b[0m\u001b[0;34m\u001b[0m\u001b[0;34m\u001b[0m\u001b[0m\n\u001b[0m\u001b[1;32m    293\u001b[0m       \u001b[0mwrote_to_fifo\u001b[0m \u001b[0;34m=\u001b[0m \u001b[0;32mTrue\u001b[0m\u001b[0;34m\u001b[0m\u001b[0;34m\u001b[0m\u001b[0m\n\u001b[1;32m    294\u001b[0m     \u001b[0;32melif\u001b[0m \u001b[0mcase\u001b[0m \u001b[0;34m==\u001b[0m \u001b[0;36m5\u001b[0m\u001b[0;34m:\u001b[0m\u001b[0;34m\u001b[0m\u001b[0;34m\u001b[0m\u001b[0m\n",
            "\u001b[0;32m/usr/local/lib/python3.7/dist-packages/ipykernel/kernelbase.py\u001b[0m in \u001b[0;36mraw_input\u001b[0;34m(self, prompt)\u001b[0m\n\u001b[1;32m    702\u001b[0m             \u001b[0mself\u001b[0m\u001b[0;34m.\u001b[0m\u001b[0m_parent_ident\u001b[0m\u001b[0;34m,\u001b[0m\u001b[0;34m\u001b[0m\u001b[0;34m\u001b[0m\u001b[0m\n\u001b[1;32m    703\u001b[0m             \u001b[0mself\u001b[0m\u001b[0;34m.\u001b[0m\u001b[0m_parent_header\u001b[0m\u001b[0;34m,\u001b[0m\u001b[0;34m\u001b[0m\u001b[0;34m\u001b[0m\u001b[0m\n\u001b[0;32m--> 704\u001b[0;31m             \u001b[0mpassword\u001b[0m\u001b[0;34m=\u001b[0m\u001b[0;32mFalse\u001b[0m\u001b[0;34m,\u001b[0m\u001b[0;34m\u001b[0m\u001b[0;34m\u001b[0m\u001b[0m\n\u001b[0m\u001b[1;32m    705\u001b[0m         )\n\u001b[1;32m    706\u001b[0m \u001b[0;34m\u001b[0m\u001b[0m\n",
            "\u001b[0;32m/usr/local/lib/python3.7/dist-packages/ipykernel/kernelbase.py\u001b[0m in \u001b[0;36m_input_request\u001b[0;34m(self, prompt, ident, parent, password)\u001b[0m\n\u001b[1;32m    732\u001b[0m             \u001b[0;32mexcept\u001b[0m \u001b[0mKeyboardInterrupt\u001b[0m\u001b[0;34m:\u001b[0m\u001b[0;34m\u001b[0m\u001b[0;34m\u001b[0m\u001b[0m\n\u001b[1;32m    733\u001b[0m                 \u001b[0;31m# re-raise KeyboardInterrupt, to truncate traceback\u001b[0m\u001b[0;34m\u001b[0m\u001b[0;34m\u001b[0m\u001b[0;34m\u001b[0m\u001b[0m\n\u001b[0;32m--> 734\u001b[0;31m                 \u001b[0;32mraise\u001b[0m \u001b[0mKeyboardInterrupt\u001b[0m\u001b[0;34m\u001b[0m\u001b[0;34m\u001b[0m\u001b[0m\n\u001b[0m\u001b[1;32m    735\u001b[0m             \u001b[0;32melse\u001b[0m\u001b[0;34m:\u001b[0m\u001b[0;34m\u001b[0m\u001b[0;34m\u001b[0m\u001b[0m\n\u001b[1;32m    736\u001b[0m                 \u001b[0;32mbreak\u001b[0m\u001b[0;34m\u001b[0m\u001b[0;34m\u001b[0m\u001b[0m\n",
            "\u001b[0;31mKeyboardInterrupt\u001b[0m: "
          ]
        }
      ]
    },
    {
      "cell_type": "code",
      "metadata": {
        "colab": {
          "base_uri": "https://localhost:8080/"
        },
        "id": "Jiu-E9LNnDa5",
        "outputId": "c437f617-96aa-4022-d901-e9360feccdab"
      },
      "source": [
        "!pip install aiogram"
      ],
      "execution_count": null,
      "outputs": [
        {
          "output_type": "stream",
          "name": "stdout",
          "text": [
            "Requirement already satisfied: aiogram in /usr/local/lib/python3.7/dist-packages (2.15)\n",
            "Requirement already satisfied: certifi>=2020.6.20 in /usr/local/lib/python3.7/dist-packages (from aiogram) (2021.5.30)\n",
            "Requirement already satisfied: Babel>=2.8.0 in /usr/local/lib/python3.7/dist-packages (from aiogram) (2.9.1)\n",
            "Requirement already satisfied: aiohttp<4.0.0,>=3.7.2 in /usr/local/lib/python3.7/dist-packages (from aiogram) (3.7.4.post0)\n",
            "Requirement already satisfied: yarl<2.0,>=1.0 in /usr/local/lib/python3.7/dist-packages (from aiohttp<4.0.0,>=3.7.2->aiogram) (1.6.3)\n",
            "Requirement already satisfied: multidict<7.0,>=4.5 in /usr/local/lib/python3.7/dist-packages (from aiohttp<4.0.0,>=3.7.2->aiogram) (5.2.0)\n",
            "Requirement already satisfied: attrs>=17.3.0 in /usr/local/lib/python3.7/dist-packages (from aiohttp<4.0.0,>=3.7.2->aiogram) (21.2.0)\n",
            "Requirement already satisfied: typing-extensions>=3.6.5 in /usr/local/lib/python3.7/dist-packages (from aiohttp<4.0.0,>=3.7.2->aiogram) (3.7.4.3)\n",
            "Requirement already satisfied: chardet<5.0,>=2.0 in /usr/local/lib/python3.7/dist-packages (from aiohttp<4.0.0,>=3.7.2->aiogram) (3.0.4)\n",
            "Requirement already satisfied: async-timeout<4.0,>=3.0 in /usr/local/lib/python3.7/dist-packages (from aiohttp<4.0.0,>=3.7.2->aiogram) (3.0.1)\n",
            "Requirement already satisfied: pytz>=2015.7 in /usr/local/lib/python3.7/dist-packages (from Babel>=2.8.0->aiogram) (2018.9)\n",
            "Requirement already satisfied: idna>=2.0 in /usr/local/lib/python3.7/dist-packages (from yarl<2.0,>=1.0->aiohttp<4.0.0,>=3.7.2->aiogram) (2.10)\n"
          ]
        }
      ]
    },
    {
      "cell_type": "code",
      "metadata": {
        "colab": {
          "base_uri": "https://localhost:8080/"
        },
        "id": "japm8Acb5OoR",
        "outputId": "2cc7744e-5aad-4f2a-c806-089b3b741122"
      },
      "source": [
        "!pip install nest-asyncio"
      ],
      "execution_count": null,
      "outputs": [
        {
          "output_type": "stream",
          "name": "stdout",
          "text": [
            "Requirement already satisfied: nest-asyncio in /usr/local/lib/python3.7/dist-packages (1.5.1)\n"
          ]
        }
      ]
    },
    {
      "cell_type": "code",
      "metadata": {
        "colab": {
          "base_uri": "https://localhost:8080/"
        },
        "id": "Iqgp6AFP5Qea",
        "outputId": "91c4f4a7-2ed2-4953-e0af-70d429b413aa"
      },
      "source": [
        "import nest_asyncio\n",
        "nest_asyncio.apply()\n",
        "__import__('IPython').embed()"
      ],
      "execution_count": null,
      "outputs": [
        {
          "output_type": "stream",
          "name": "stdout",
          "text": [
            "Python 3.7.12 (default, Sep 10 2021, 00:21:48) \n",
            "Type \"copyright\", \"credits\" or \"license\" for more information.\n",
            "\n",
            "IPython 5.5.0 -- An enhanced Interactive Python.\n",
            "?         -> Introduction and overview of IPython's features.\n",
            "%quickref -> Quick reference.\n",
            "help      -> Python's own help system.\n",
            "object?   -> Details about 'object', use 'object??' for extra details.\n",
            "\n",
            "In [1]: exit()\n",
            "\n"
          ]
        }
      ]
    },
    {
      "cell_type": "code",
      "metadata": {
        "colab": {
          "base_uri": "https://localhost:8080/"
        },
        "id": "NZemOPOynQ6Y",
        "outputId": "f1abc7d0-8753-47ac-9e22-7a5232951563"
      },
      "source": [
        "!pip install timm"
      ],
      "execution_count": null,
      "outputs": [
        {
          "output_type": "stream",
          "name": "stdout",
          "text": [
            "Requirement already satisfied: timm in /usr/local/lib/python3.7/dist-packages (0.4.12)\n",
            "Requirement already satisfied: torchvision in /usr/local/lib/python3.7/dist-packages (from timm) (0.10.0+cu102)\n",
            "Requirement already satisfied: torch>=1.4 in /usr/local/lib/python3.7/dist-packages (from timm) (1.9.0+cu102)\n",
            "Requirement already satisfied: typing-extensions in /usr/local/lib/python3.7/dist-packages (from torch>=1.4->timm) (3.7.4.3)\n",
            "Requirement already satisfied: pillow>=5.3.0 in /usr/local/lib/python3.7/dist-packages (from torchvision->timm) (7.1.2)\n",
            "Requirement already satisfied: numpy in /usr/local/lib/python3.7/dist-packages (from torchvision->timm) (1.19.5)\n"
          ]
        }
      ]
    },
    {
      "cell_type": "code",
      "metadata": {
        "id": "QkU5xm2zm_Wo"
      },
      "source": [
        "from typing import Callable, Dict, Mapping, Tuple, Optional, Union, Any;from functools import partial;import os\n",
        "import matplotlib.pyplot as plt;import random\n",
        "import logging; from aiogram import Bot, Dispatcher, executor, types; from os import mkdir;import json\n",
        "import torch;import cv2;import numpy as np; import pandas as pd;import albumentations as albu;from torch import nn; from torch.nn.modules.pooling import AdaptiveAvgPool2d; from torch.nn.modules.dropout import Dropout;from torch.nn.modules.linear import Linear;from timm.models.efficientnet import efficientnet_b2;from timm.models.resnet import resnet18, resnet34, resnet50"
      ],
      "execution_count": null,
      "outputs": []
    },
    {
      "cell_type": "code",
      "metadata": {
        "id": "1C8IP-5YR6rx"
      },
      "source": [
        "user_lang = {}\n",
        "C2LP = './Web app/app/class2label.json'  # path to class2label.json\n",
        "MW = './Web app/app/best.pth'  # path to best.pth\n",
        "DCEN = './Web app/app/desc_en.json'\n",
        "DCRU = './Web app/app/desc_ru.json'"
      ],
      "execution_count": null,
      "outputs": []
    },
    {
      "cell_type": "code",
      "metadata": {
        "id": "jQlFFrhVzR8f"
      },
      "source": [
        "def set_global_seed(seed: int, is_cudnn_deterministic: bool = True) -> None:\n",
        "    \"\"\"Setting seed for reproducible results.\n",
        "\n",
        "    :param seed: seed number (no matter which one)\n",
        "    :param is_cudnn_deterministic: is the algorithm determined on сuda or not\n",
        "    \"\"\"\n",
        "    random.seed(seed)\n",
        "    np.random.seed(seed)\n",
        "\n",
        "    torch.manual_seed(seed)\n",
        "    torch.cuda.manual_seed(seed)\n",
        "    torch.backends.cudnn.deterministic = is_cudnn_deterministic\n",
        "    torch.backends.cudnn.benchmark = False"
      ],
      "execution_count": null,
      "outputs": []
    },
    {
      "cell_type": "code",
      "metadata": {
        "id": "2ymAbtMN9KoH"
      },
      "source": [
        "ENCODERS = {\n",
        "    'resnet18': {\n",
        "        'features': 512,\n",
        "        'init_op': partial(resnet18, pretrained=True),\n",
        "    },\n",
        "    'resnet34': {\n",
        "        'features': 512,\n",
        "        'init_op': partial(resnet34, pretrained=True),\n",
        "    },\n",
        "    'resnet50': {\n",
        "        'features': 2048,\n",
        "        'init_op': partial(resnet50, pretrained=True),\n",
        "    },\n",
        "    'efficientnet_b0': {\n",
        "        'features': 1408,\n",
        "        'init_op': partial(efficientnet_b2, pretrained=True),\n",
        "    },\n",
        "}\n",
        "\n",
        "\n",
        "class SignsClassifier(nn.Module):\n",
        "    \"\"\"\n",
        "    A model for classifying signs.\n",
        "    \"\"\"\n",
        "\n",
        "    def __init__(self, encoder_name: str, n_classes: int, dropout_rate: float = 0.2):\n",
        "        \"\"\"Initializing the class.\n",
        "\n",
        "        :param encoder_name: name of the network encoder\n",
        "        :param n_classes: number of output classes\n",
        "        :param dropout_rate: dropout rate\n",
        "        \"\"\"\n",
        "        super().__init__()\n",
        "        self.encoder = ENCODERS[encoder_name]['init_op']()\n",
        "        self.avg_pool = AdaptiveAvgPool2d((1, 1))\n",
        "        self.dropout = Dropout(dropout_rate)\n",
        "        self.fc = Linear(ENCODERS[encoder_name]['features'], n_classes)\n",
        "\n",
        "    def forward(self, x: torch.Tensor) -> torch.Tensor:\n",
        "        \"\"\"Getting the model prediction.\n",
        "\n",
        "        :param x: input batch tensor\n",
        "        :return: prediction\n",
        "        \"\"\"\n",
        "        x = self.encoder.forward_features(x)\n",
        "        x = self.avg_pool(x).flatten(1)\n",
        "        x = self.dropout(x)\n",
        "        x = self.fc(x)\n",
        "        return x\n",
        "def load_json_file(path: str) -> Any:\n",
        "    with open(path, 'r') as f:\n",
        "        data = json.load(f)\n",
        "    return data\n",
        "def dump_to_json_file(data: Any, path: str) -> None:\n",
        "    \"\"\"Dumping data to a json file.\n",
        "\n",
        "    :param data: data for dumping\n",
        "    :param path: path to the saved json file\n",
        "    \"\"\"\n",
        "    with open(path, 'w') as f:\n",
        "        json.dump(data, f, ensure_ascii=False, indent=2)\n",
        "        f.write('\\n')\n",
        "def get_model():\n",
        "    class2label = load_json_file(C2LP)\n",
        "    label2class = {v: k for k, v in class2label.items()}\n",
        "    model = SignsClassifier('efficientnet_b0', len(class2label))\n",
        "    sdict = torch.load(MW)\n",
        "    model.load_state_dict(sdict['state_dict'])\n",
        "    model.eval()\n",
        "    return model, label2class\n",
        "\n",
        "def prep(img, img_size: Tuple[int, int] = (224, 224)) -> Callable:\n",
        "    valid_transform = [\n",
        "        albu.Resize(img_size[0], img_size[1]),\n",
        "    ]\n",
        "    img = albu.Compose(valid_transform)(image=img)['image']\n",
        "    img = img.astype(np.float32)\n",
        "    img /= 255\n",
        "    img = np.transpose(img, (2, 0, 1))\n",
        "    img -= np.array([0.485, 0.456, 0.406])[:, None, None]\n",
        "    img /= np.array([0.229, 0.224, 0.225])[:, None, None]\n",
        "\n",
        "    return img\n",
        "\n",
        "\n",
        "def pred(IP, model, label2class):\n",
        "    \n",
        "    im = cv2.imread(IP)  # define your self. if cv2, after that use cv2.cvtColor(cv2.COLOR_BGR2RGB)\n",
        "    im = cv2.cvtColor(im, cv2.COLOR_BGR2RGB)\n",
        "    im = prep(im, (224, 224))\n",
        "    im = torch.from_numpy(im)\n",
        "    im = im.unsqueeze(0)\n",
        "    pred = model(im)\n",
        "    pred = nn.LogSoftmax(dim=1)(pred)\n",
        "    pred = pred.argmax(dim=1).numpy()[0]\n",
        "    pred = label2class[pred\n",
        "                       ]\n",
        "    os.remove(IP)\n",
        "    return pred"
      ],
      "execution_count": null,
      "outputs": []
    },
    {
      "cell_type": "code",
      "metadata": {
        "id": "MGjTQmhoMpHn"
      },
      "source": [
        "model, l2c = get_model()"
      ],
      "execution_count": null,
      "outputs": []
    },
    {
      "cell_type": "code",
      "metadata": {
        "id": "LNOtfbLom4Bt"
      },
      "source": [
        "\n",
        " # path to image\n",
        "dc_en = load_json_file(DCEN)\n",
        "dc_ru = load_json_file(DCRU)\n",
        "#mkdir('/tmp'); mkdir('/tmp/logs'); mkdir('/tmp/photos')\n",
        "\n",
        "# Объект бота\n",
        "bot = Bot(token=\"1902133157:AAH0tHhsqnvGw_O83rJFAy31MMHY7nC10VQ\")\n",
        "# Диспетчер для бота\n",
        "dp = Dispatcher(bot)\n",
        "# Включаем логирование, чтобы не пропустить важные сообщения\n",
        "logging.basicConfig(level=logging.INFO)\n",
        "\n",
        "@dp.message_handler(commands=\"start\")\n",
        "async def cmd_start(message: types.Message):\n",
        "    keyboard = types.ReplyKeyboardMarkup(resize_keyboard=True)\n",
        "    buttons = [\"Русский\", \"English\"]\n",
        "    keyboard.add(*buttons)\n",
        "    await message.answer('Здравствуйте, уважаемый. Это классификатор дорожных знаков для компании TwoGIS. Данный проект создавался в рамках состязания AIIJC. Пожалуйста, пришлите мне фото с дорожным знаком и ждите результата. Я работаю с 224х224 фотографиями, но вы можете прислать любой другой размер тоже. Для обратной связи вы можете написать на наш e-mail: cspdarknet53team@gmail.com\\nIf you want to change language press the button \"English\"', reply_markup=keyboard)\n",
        "\n",
        "@dp.message_handler(lambda message: message.text == \"English\")\n",
        "async def with_puree(message: types.Message):\n",
        "    user_lang[message.from_user.id] = 'en'\n",
        "    \n",
        "    await message.reply(\"Hello, dear customer. It is me, TwoGIS road sign classification system. This project was created for AIIJC competition. I am classifying road sign. Please, send me road sign image and wait for results. I am working with 224x224 image. But you can send me any other sized picture. You can send feedback to cspdarknet53team@gmail.com\")\n",
        "      \n",
        "@dp.message_handler(lambda message: message.text == \"Русский\")\n",
        "async def without_puree(message: types.Message):\n",
        "    user_lang[message.from_user.id] = 'ru'\n",
        "    await message.reply(\"Здравствуйте, уважаемый. Это классификатор дорожных знаков для компании TwoGIS. Данный проект создавался в рамках состязания AIIJC. Пожалуйста, пришлите мне фото с дорожным знаком и ждите результата. Я работаю с 224х224 фотографиями, но вы можете прислать любой другой размер тоже. Для обратной связи вы можете написать на наш e-mail: cspdarknet53team@gmail.com\")\n",
        "    \n",
        "@dp.message_handler(content_types=[\"photo\"])\n",
        "async def download_photo(message: types.Message):\n",
        "    \n",
        "    await message.photo[-1].download(destination=\"./\")\n",
        "    res = pred('./photos/'+os.listdir('./photos')[0],\n",
        "                                          model, \n",
        "                                          l2c)\n",
        "    if user_lang[message.from_user.id] is 'en':\n",
        "      await message.answer('Successfully uploaded.')\n",
        "      await message.answer('Predicting...')\n",
        "      await message.answer('This sign is ' + dc_en[res])\n",
        "    else:\n",
        "      await message.answer('Успешно загружено.')\n",
        "      await message.answer('Обрабатывается...')\n",
        "      await message.answer('Это знак ' + dc_ru[res])\n",
        "\n",
        "@dp.message_handler(commands=\"feedback\")\n",
        "async def send_feedback(message: types.Message):\n",
        "  if user_lang[message.from_user.id] == 'en':\n",
        "    await message.answer(message.text)\n",
        "      \n",
        "    \n",
        "\n",
        "\n",
        "\n"
      ],
      "execution_count": null,
      "outputs": []
    },
    {
      "cell_type": "code",
      "metadata": {
        "id": "6gU4UvGvy2XM"
      },
      "source": [
        "set_global_seed(42)"
      ],
      "execution_count": null,
      "outputs": []
    },
    {
      "cell_type": "code",
      "metadata": {
        "id": "XEvLJx6Vm8a8",
        "colab": {
          "base_uri": "https://localhost:8080/"
        },
        "outputId": "8c8fe015-7a41-4112-f7ab-95ed2c61c26b"
      },
      "source": [
        "\n",
        "if __name__ == \"__main__\":\n",
        "    # Запуск бота\n",
        "    executor.start_polling(dp, skip_updates=True)"
      ],
      "execution_count": null,
      "outputs": [
        {
          "output_type": "stream",
          "name": "stderr",
          "text": [
            "INFO:aiogram:Bot: TwoGIS helper [@twogis_helper_bot]\n",
            "WARNING:aiogram:Updates were skipped successfully.\n",
            "INFO:aiogram.dispatcher.dispatcher:Start polling.\n",
            "/usr/local/lib/python3.7/dist-packages/aiogram/types/mixins.py:41: DeprecationWarning: destination parameter is deprecated, please use destination_dir or destination_file.\n",
            "  \"destination parameter is deprecated, please use destination_dir or destination_file.\"\n",
            "/usr/local/lib/python3.7/dist-packages/aiogram/types/mixins.py:41: DeprecationWarning: destination parameter is deprecated, please use destination_dir or destination_file.\n",
            "  \"destination parameter is deprecated, please use destination_dir or destination_file.\"\n",
            "/usr/local/lib/python3.7/dist-packages/aiogram/types/mixins.py:41: DeprecationWarning: destination parameter is deprecated, please use destination_dir or destination_file.\n",
            "  \"destination parameter is deprecated, please use destination_dir or destination_file.\"\n",
            "/usr/local/lib/python3.7/dist-packages/aiogram/types/mixins.py:41: DeprecationWarning: destination parameter is deprecated, please use destination_dir or destination_file.\n",
            "  \"destination parameter is deprecated, please use destination_dir or destination_file.\"\n"
          ]
        }
      ]
    },
    {
      "cell_type": "code",
      "metadata": {
        "id": "UpVXEqh_1laZ"
      },
      "source": [
        ""
      ],
      "execution_count": null,
      "outputs": []
    }
  ]
}