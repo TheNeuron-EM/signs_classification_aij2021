{
  "nbformat": 4,
  "nbformat_minor": 0,
  "metadata": {
    "accelerator": "GPU",
    "colab": {
      "name": "telegram-bot.ipynb",
      "provenance": [],
      "collapsed_sections": []
    },
    "kernelspec": {
      "display_name": "Python 3",
      "name": "python3"
    },
    "language_info": {
      "name": "python"
    }
  },
  "cells": [
    {
      "cell_type": "code",
      "metadata": {
        "id": "Jiu-E9LNnDa5"
      },
      "source": [
        "!pip install aiogram"
      ],
      "execution_count": null,
      "outputs": []
    },
    {
      "cell_type": "code",
      "metadata": {
        "colab": {
          "base_uri": "https://localhost:8080/"
        },
        "id": "japm8Acb5OoR",
        "outputId": "2cc7744e-5aad-4f2a-c806-089b3b741122"
      },
      "source": [
        "!pip install nest-asyncio"
      ],
      "execution_count": null,
      "outputs": [
        {
          "output_type": "stream",
          "name": "stdout",
          "text": [
            "Requirement already satisfied: nest-asyncio in /usr/local/lib/python3.7/dist-packages (1.5.1)\n"
          ]
        }
      ]
    },
    {
      "cell_type": "code",
      "metadata": {
        "colab": {
          "base_uri": "https://localhost:8080/"
        },
        "id": "Iqgp6AFP5Qea",
        "outputId": "91c4f4a7-2ed2-4953-e0af-70d429b413aa"
      },
      "source": [
        "import nest_asyncio\n",
        "nest_asyncio.apply()\n",
        "__import__('IPython').embed()"
      ],
      "execution_count": null,
      "outputs": [
        {
          "output_type": "stream",
          "name": "stdout",
          "text": [
            "Python 3.7.12 (default, Sep 10 2021, 00:21:48) \n",
            "Type \"copyright\", \"credits\" or \"license\" for more information.\n",
            "\n",
            "IPython 5.5.0 -- An enhanced Interactive Python.\n",
            "?         -> Introduction and overview of IPython's features.\n",
            "%quickref -> Quick reference.\n",
            "help      -> Python's own help system.\n",
            "object?   -> Details about 'object', use 'object??' for extra details.\n",
            "\n",
            "In [1]: exit()\n",
            "\n"
          ]
        }
      ]
    },
    {
      "cell_type": "markdown",
      "metadata": {
        "id": "xeL0bOYm6U-_"
      },
      "source": [
        "For exit from IPython type exit()"
      ]
    },
    {
      "cell_type": "code",
      "metadata": {
        "id": "NZemOPOynQ6Y"
      },
      "source": [
        "!pip install timm"
      ],
      "execution_count": null,
      "outputs": []
    },
    {
      "cell_type": "code",
      "metadata": {
        "id": "QkU5xm2zm_Wo"
      },
      "source": [
        "from typing import Callable, Dict, Mapping, Tuple, Optional, Union, Any;from functools import partial;import os\n",
        "import matplotlib.pyplot as plt;import random\n",
        "import logging; from aiogram import Bot, Dispatcher, executor, types; from os import mkdir;import json\n",
        "import torch;import cv2;import numpy as np; import pandas as pd;import albumentations as albu;from torch import nn; from torch.nn.modules.pooling import AdaptiveAvgPool2d; from torch.nn.modules.dropout import Dropout;from torch.nn.modules.linear import Linear;from timm.models.efficientnet import efficientnet_b2;from timm.models.resnet import resnet18, resnet34, resnet50"
      ],
      "execution_count": null,
      "outputs": []
    },
    {
      "cell_type": "code",
      "metadata": {
        "id": "1C8IP-5YR6rx"
      },
      "source": [
        "user_lang = {}\n",
        "C2LP = './Web app/app/class2label.json'  # path to class2label.json\n",
        "MW = './Web app/app/best.pth'  # path to best.pth\n",
        "DCEN = './Web app/app/desc_en.json'\n",
        "DCRU = './Web app/app/desc_ru.json'"
      ],
      "execution_count": null,
      "outputs": []
    },
    {
      "cell_type": "code",
      "metadata": {
        "id": "jQlFFrhVzR8f"
      },
      "source": [
        "def set_global_seed(seed: int, is_cudnn_deterministic: bool = True) -> None:\n",
        "    \"\"\"Setting seed for reproducible results.\n",
        "\n",
        "    :param seed: seed number (no matter which one)\n",
        "    :param is_cudnn_deterministic: is the algorithm determined on сuda or not\n",
        "    \"\"\"\n",
        "    random.seed(seed)\n",
        "    np.random.seed(seed)\n",
        "\n",
        "    torch.manual_seed(seed)\n",
        "    torch.cuda.manual_seed(seed)\n",
        "    torch.backends.cudnn.deterministic = is_cudnn_deterministic\n",
        "    torch.backends.cudnn.benchmark = False"
      ],
      "execution_count": null,
      "outputs": []
    },
    {
      "cell_type": "code",
      "metadata": {
        "id": "2ymAbtMN9KoH"
      },
      "source": [
        "ENCODERS = {\n",
        "    'resnet18': {\n",
        "        'features': 512,\n",
        "        'init_op': partial(resnet18, pretrained=True),\n",
        "    },\n",
        "    'resnet34': {\n",
        "        'features': 512,\n",
        "        'init_op': partial(resnet34, pretrained=True),\n",
        "    },\n",
        "    'resnet50': {\n",
        "        'features': 2048,\n",
        "        'init_op': partial(resnet50, pretrained=True),\n",
        "    },\n",
        "    'efficientnet_b0': {\n",
        "        'features': 1408,\n",
        "        'init_op': partial(efficientnet_b2, pretrained=True),\n",
        "    },\n",
        "}\n",
        "\n",
        "\n",
        "class SignsClassifier(nn.Module):\n",
        "    \"\"\"\n",
        "    A model for classifying signs.\n",
        "    \"\"\"\n",
        "\n",
        "    def __init__(self, encoder_name: str, n_classes: int, dropout_rate: float = 0.2):\n",
        "        \"\"\"Initializing the class.\n",
        "\n",
        "        :param encoder_name: name of the network encoder\n",
        "        :param n_classes: number of output classes\n",
        "        :param dropout_rate: dropout rate\n",
        "        \"\"\"\n",
        "        super().__init__()\n",
        "        self.encoder = ENCODERS[encoder_name]['init_op']()\n",
        "        self.avg_pool = AdaptiveAvgPool2d((1, 1))\n",
        "        self.dropout = Dropout(dropout_rate)\n",
        "        self.fc = Linear(ENCODERS[encoder_name]['features'], n_classes)\n",
        "\n",
        "    def forward(self, x: torch.Tensor) -> torch.Tensor:\n",
        "        \"\"\"Getting the model prediction.\n",
        "\n",
        "        :param x: input batch tensor\n",
        "        :return: prediction\n",
        "        \"\"\"\n",
        "        x = self.encoder.forward_features(x)\n",
        "        x = self.avg_pool(x).flatten(1)\n",
        "        x = self.dropout(x)\n",
        "        x = self.fc(x)\n",
        "        return x\n",
        "def load_json_file(path: str) -> Any:\n",
        "    with open(path, 'r') as f:\n",
        "        data = json.load(f)\n",
        "    return data\n",
        "def dump_to_json_file(data: Any, path: str) -> None:\n",
        "    \"\"\"Dumping data to a json file.\n",
        "\n",
        "    :param data: data for dumping\n",
        "    :param path: path to the saved json file\n",
        "    \"\"\"\n",
        "    with open(path, 'w') as f:\n",
        "        json.dump(data, f, ensure_ascii=False, indent=2)\n",
        "        f.write('\\n')\n",
        "def get_model():\n",
        "    class2label = load_json_file(C2LP)\n",
        "    label2class = {v: k for k, v in class2label.items()}\n",
        "    model = SignsClassifier('efficientnet_b0', len(class2label))\n",
        "    sdict = torch.load(MW)\n",
        "    model.load_state_dict(sdict['state_dict'])\n",
        "    model.eval()\n",
        "    return model, label2class\n",
        "\n",
        "def prep(img, img_size: Tuple[int, int] = (224, 224)) -> Callable:\n",
        "    valid_transform = [\n",
        "        albu.Resize(img_size[0], img_size[1]),\n",
        "    ]\n",
        "    img = albu.Compose(valid_transform)(image=img)['image']\n",
        "    img = img.astype(np.float32)\n",
        "    img /= 255\n",
        "    img = np.transpose(img, (2, 0, 1))\n",
        "    img -= np.array([0.485, 0.456, 0.406])[:, None, None]\n",
        "    img /= np.array([0.229, 0.224, 0.225])[:, None, None]\n",
        "\n",
        "    return img\n",
        "\n",
        "\n",
        "def pred(IP, model, label2class):\n",
        "    \n",
        "    im = cv2.imread(IP)  # define your self. if cv2, after that use cv2.cvtColor(cv2.COLOR_BGR2RGB)\n",
        "    im = cv2.cvtColor(im, cv2.COLOR_BGR2RGB)\n",
        "    im = prep(im, (224, 224))\n",
        "    im = torch.from_numpy(im)\n",
        "    im = im.unsqueeze(0)\n",
        "    pred = model(im)\n",
        "    pred = nn.LogSoftmax(dim=1)(pred)\n",
        "    pred = pred.argmax(dim=1).numpy()[0]\n",
        "    pred = label2class[pred\n",
        "                       ]\n",
        "    os.remove(IP)\n",
        "    return pred"
      ],
      "execution_count": null,
      "outputs": []
    },
    {
      "cell_type": "code",
      "metadata": {
        "id": "MGjTQmhoMpHn"
      },
      "source": [
        "model, l2c = get_model()"
      ],
      "execution_count": null,
      "outputs": []
    },
    {
      "cell_type": "code",
      "metadata": {
        "id": "LNOtfbLom4Bt"
      },
      "source": [
        "\n",
        " # path to image\n",
        "dc_en = load_json_file(DCEN)\n",
        "dc_ru = load_json_file(DCRU)\n",
        "#mkdir('/tmp'); mkdir('/tmp/logs'); mkdir('/tmp/photos')\n",
        "\n",
        "# Объект бота | bot object\n",
        "bot = Bot(token=\"1902133157:AAH0tHhsqnvGw_O83rJFAy31MMHY7nC10VQ\")\n",
        "# Диспетчер для бота | bot dispatcher\n",
        "dp = Dispatcher(bot)\n",
        "\n",
        "@dp.message_handler(commands=\"start\")\n",
        "async def cmd_start(message: types.Message):\n",
        "    keyboard = types.ReplyKeyboardMarkup(resize_keyboard=True)\n",
        "    buttons = [\"Русский\", \"English\"]\n",
        "    keyboard.add(*buttons)\n",
        "    await message.answer('Здравствуйте, уважаемый. Это классификатор дорожных знаков для компании TwoGIS. Данный проект создавался в рамках состязания AIIJC. Пожалуйста, пришлите мне фото с дорожным знаком и ждите результата. Я работаю с 224х224 фотографиями, но вы можете прислать любой другой размер тоже. Для обратной связи вы можете написать на наш e-mail: cspdarknet53team@gmail.com\\nIf you want to change language press the button \"English\"', reply_markup=keyboard)\n",
        "\n",
        "@dp.message_handler(lambda message: message.text == \"English\")\n",
        "async def with_puree(message: types.Message):\n",
        "    user_lang[message.from_user.id] = 'en'\n",
        "    \n",
        "    await message.reply(\"Hello, dear customer. It is me, TwoGIS road sign classification system. This project was created for AIIJC competition. I am classifying road sign. Please, send me road sign image and wait for results. I am working with 224x224 image. But you can send me any other sized picture. You can send feedback to cspdarknet53team@gmail.com\")\n",
        "      \n",
        "@dp.message_handler(lambda message: message.text == \"Русский\")\n",
        "async def without_puree(message: types.Message):\n",
        "    user_lang[message.from_user.id] = 'ru'\n",
        "    await message.reply(\"Здравствуйте, уважаемый. Это классификатор дорожных знаков для компании TwoGIS. Данный проект создавался в рамках состязания AIIJC. Пожалуйста, пришлите мне фото с дорожным знаком и ждите результата. Я работаю с 224х224 фотографиями, но вы можете прислать любой другой размер тоже. Для обратной связи вы можете написать на наш e-mail: cspdarknet53team@gmail.com\")\n",
        "    \n",
        "@dp.message_handler(content_types=[\"photo\"])\n",
        "async def download_photo(message: types.Message):\n",
        "    \n",
        "    await message.photo[-1].download(destination=\"./\")\n",
        "    res = pred('./photos/'+os.listdir('./photos')[0],\n",
        "                                          model, \n",
        "                                          l2c)\n",
        "    if user_lang[message.from_user.id] is 'en':\n",
        "      await message.answer('Successfully uploaded.')\n",
        "      await message.answer('Predicting...')\n",
        "      await message.answer('This sign is ' + dc_en[res])\n",
        "    else:\n",
        "      await message.answer('Успешно загружено.')\n",
        "      await message.answer('Обрабатывается...')\n",
        "      await message.answer('Это знак ' + dc_ru[res])\n",
        "\n",
        "@dp.message_handler(commands=\"feedback\")\n",
        "async def send_feedback(message: types.Message):\n",
        "  if user_lang[message.from_user.id] == 'en':\n",
        "    await message.answer(message.text)\n",
        "      \n",
        "    \n",
        "\n",
        "\n",
        "\n"
      ],
      "execution_count": null,
      "outputs": []
    },
    {
      "cell_type": "code",
      "metadata": {
        "id": "6gU4UvGvy2XM"
      },
      "source": [
        "set_global_seed(42)"
      ],
      "execution_count": null,
      "outputs": []
    },
    {
      "cell_type": "code",
      "metadata": {
        "id": "XEvLJx6Vm8a8"
      },
      "source": [
        "\n",
        "if __name__ == \"__main__\":\n",
        "    # Запуск бота\n",
        "    executor.start_polling(dp, skip_updates=True)"
      ],
      "execution_count": null,
      "outputs": []
    },
    {
      "cell_type": "code",
      "metadata": {
        "id": "UpVXEqh_1laZ"
      },
      "source": [
        ""
      ],
      "execution_count": null,
      "outputs": []
    }
  ]
}